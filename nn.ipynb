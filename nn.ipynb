{
 "cells": [
  {
   "cell_type": "code",
   "execution_count": 148,
   "metadata": {},
   "outputs": [],
   "source": [
    "import numpy as np\n",
    "import matplotlib.pyplot as plt\n",
    "\n",
    "%matplotlib inline"
   ]
  },
  {
   "cell_type": "code",
   "execution_count": 149,
   "metadata": {},
   "outputs": [],
   "source": [
    "block_size = 5\n",
    "n_embd = 20\n",
    "hidden_size = 30\n",
    "batch_size = 32"
   ]
  },
  {
   "cell_type": "code",
   "execution_count": 150,
   "metadata": {},
   "outputs": [],
   "source": [
    "data = open(\"names.txt\", \"r\").read()"
   ]
  },
  {
   "cell_type": "code",
   "execution_count": null,
   "metadata": {},
   "outputs": [],
   "source": [
    "chars = sorted(list(set(data)))\n",
    "chars[0] = \".\"\n",
    "vocab_size = len(chars)\n",
    "\n",
    "stoi = { s : i for i, s in enumerate(chars)}\n",
    "itos = { i : s for i, s in enumerate(chars)}"
   ]
  },
  {
   "cell_type": "code",
   "execution_count": 153,
   "metadata": {},
   "outputs": [],
   "source": [
    "def make_pairs(data):\n",
    "    names = data.splitlines()\n",
    "    X, y = [], []\n",
    "    \n",
    "    for name in names:\n",
    "        word = name + \".\"\n",
    "        cur = [\".\"] * block_size\n",
    "\n",
    "        for w in word:\n",
    "            X.append([stoi[i] for i in cur])\n",
    "            y.append([stoi[w]])\n",
    "\n",
    "            cur.append(w)\n",
    "            cur.pop(0)\n",
    "    return np.array(X), np.array(y).reshape(-1, )"
   ]
  },
  {
   "cell_type": "code",
   "execution_count": 154,
   "metadata": {},
   "outputs": [
    {
     "data": {
      "text/plain": [
       "((228146, 5), (228146,))"
      ]
     },
     "execution_count": 154,
     "metadata": {},
     "output_type": "execute_result"
    }
   ],
   "source": [
    "X, y = make_pairs(data)\n",
    "X.shape, y.shape"
   ]
  },
  {
   "cell_type": "code",
   "execution_count": null,
   "metadata": {},
   "outputs": [
    {
     "name": "stdout",
     "output_type": "stream",
     "text": [
      "..... e\n",
      "....e m\n",
      "...em m\n",
      "..emm a\n",
      ".emma .\n",
      "..... o\n",
      "....o l\n",
      "...ol i\n",
      "..oli v\n",
      ".oliv i\n"
     ]
    }
   ],
   "source": [
    "# visualize data\n",
    "for j in range(10):\n",
    "    print(\"\".join([ itos[i] for i in X[j]]),  itos[y[j]])"
   ]
  },
  {
   "cell_type": "code",
   "execution_count": 156,
   "metadata": {},
   "outputs": [],
   "source": [
    "class Embedding:\n",
    "    def __init__(self, vocab_size, n_embd):\n",
    "        self.vocab_size = vocab_size\n",
    "        self.n_embd = n_embd\n",
    "        self.embeddings = np.random.randn(vocab_size, n_embd) \n",
    "    \n",
    "    def forward(self, X):\n",
    "        self.prev = X  # (batch_size, seq_length)\n",
    "        return self.embeddings[X].reshape(X.shape[0], -1) # (batch_size, seq_length * n_embd)\n",
    "    \n",
    "    def backward(self, grad, lr):\n",
    "        batch_size, seq_length = grad.shape\n",
    "        seq_length = seq_length // self.n_embd\n",
    "\n",
    "        grad = grad.reshape(batch_size, seq_length, self.n_embd)\n",
    "        flat_indices = self.prev.flatten()\n",
    "        flat_grad = grad.reshape(-1, self.n_embd)\n",
    "\n",
    "        #for i in range(len(flat_indices)):\n",
    "        #    self.embeddings[flat_indices[i]] -= lr * flat_grad[i]  this is what happens below\n",
    "\n",
    "        np.add.at(self.embeddings, flat_indices, -lr * flat_grad) \n",
    "    \n",
    "    def __call__(self, indices):\n",
    "        return self.forward(indices)\n",
    "    \n",
    "\n",
    "class Linear:\n",
    "    def __init__(self, in_feats, out_feats):\n",
    "        self.w = np.random.randn(in_feats, out_feats) / np.sqrt(in_feats)\n",
    "        self.b = np.zeros((1, out_feats))\n",
    "    \n",
    "    def forward(self, X):\n",
    "        self.X = X\n",
    "        out = X @ self.w + self.b\n",
    "        return out\n",
    "    \n",
    "    def backward(self, grad, lr):\n",
    "        n_grad = grad @ self.w.T # (batch, out_feat) @ (out_feat, in_feat) = (batch, in_feat)\n",
    "        self.w -= self.X.T @ grad * lr / self.X.shape[0] # (in_feat, batch) @ (batch, out_feat) = (in_feat, out_feat)\n",
    "        self.b -= np.sum(grad, axis=0) * lr / self.X.shape[0]\n",
    "        return n_grad\n",
    "    \n",
    "    def __call__(self, X):\n",
    "        return self.forward(X)\n",
    "    \n",
    "\n",
    "class Tanh:\n",
    "    def forward(self, X):\n",
    "        self.out = np.tanh(X)\n",
    "        return self.out\n",
    "\n",
    "    def backward(self, grad, lr):\n",
    "        return grad * (1 - self.out ** 2)\n",
    "    \n",
    "    def __call__(self, X):\n",
    "        return self.forward(X)\n",
    "    \n",
    "    \n",
    "class ReLU:\n",
    "    def forward(self, X):\n",
    "        self.X = X  # Store input for backward pass\n",
    "        return np.maximum(0, X)  # ReLU function: max(0, x)\n",
    "\n",
    "    def backward(self, grad, lr):\n",
    "        return grad * (self.X > 0)  # Gradient is 1 where X > 0, else 0\n",
    "\n",
    "    def __call__(self, X):\n",
    "        return self.forward(X)"
   ]
  },
  {
   "cell_type": "code",
   "execution_count": 157,
   "metadata": {},
   "outputs": [],
   "source": [
    "def softmax(x):\n",
    "    exp_x = np.exp(x - np.max(x, axis=1, keepdims=True))  \n",
    "    return exp_x / np.sum(exp_x, axis=1, keepdims=True)\n",
    "\n",
    "def cross_entropy_loss(pred, target):\n",
    "\n",
    "    batch_size = pred.shape[0]\n",
    "    probs = softmax(pred)  \n",
    "\n",
    "    grad = probs.copy()\n",
    "    grad[np.arange(batch_size), target] -= 1  \n",
    "    grad /= batch_size  \n",
    "\n",
    "    log_probs = np.log(np.clip(probs[np.arange(batch_size), target], 1e-12, 1.0))  \n",
    "    loss = -np.mean(log_probs)\n",
    "\n",
    "    return loss, grad"
   ]
  },
  {
   "cell_type": "code",
   "execution_count": 158,
   "metadata": {},
   "outputs": [],
   "source": [
    "model = [\n",
    "    Embedding(vocab_size, n_embd),\n",
    "    Linear(block_size * n_embd, hidden_size),\n",
    "    Tanh(),\n",
    "    Linear(hidden_size, vocab_size)\n",
    "]"
   ]
  },
  {
   "cell_type": "code",
   "execution_count": 159,
   "metadata": {},
   "outputs": [
    {
     "name": "stdout",
     "output_type": "stream",
     "text": [
      "Step: 0   Loss: 3.4682958550539316\n",
      "Step: 10000   Loss: 3.297767636069662\n",
      "Step: 20000   Loss: 2.3901727042562317\n",
      "Step: 30000   Loss: 2.679329332023403\n",
      "Step: 40000   Loss: 2.184394885443627\n",
      "Step: 50000   Loss: 2.52162776788046\n",
      "Step: 60000   Loss: 2.1589075383249745\n",
      "Step: 70000   Loss: 2.780126753722661\n",
      "Step: 80000   Loss: 2.1649242830118594\n",
      "Step: 90000   Loss: 2.160716560903573\n",
      "Step: 100000   Loss: 2.6364093065306715\n",
      "Step: 110000   Loss: 2.574769976487012\n",
      "Step: 120000   Loss: 2.5640553497877896\n",
      "Step: 130000   Loss: 2.320806997743526\n",
      "Step: 140000   Loss: 2.361844958769736\n",
      "Step: 150000   Loss: 2.15277627587974\n",
      "Step: 160000   Loss: 2.395325466166642\n",
      "Step: 170000   Loss: 2.4578616495249763\n",
      "Step: 180000   Loss: 2.4484114573369515\n",
      "Step: 190000   Loss: 2.1829883292607297\n",
      "Step: 200000   Loss: 2.5590520328992197\n",
      "Step: 210000   Loss: 2.0157361912221976\n",
      "Step: 220000   Loss: 1.9684200538207395\n",
      "Step: 230000   Loss: 2.4614508901689764\n",
      "Step: 240000   Loss: 2.1595493470290723\n",
      "Step: 250000   Loss: 2.436466147705405\n",
      "Step: 260000   Loss: 2.408604053512325\n",
      "Step: 270000   Loss: 2.364969132766034\n",
      "Step: 280000   Loss: 2.268961010336076\n",
      "Step: 290000   Loss: 2.2146349134583065\n",
      "Step: 300000   Loss: 2.0908735316690175\n",
      "Step: 310000   Loss: 1.543218942707242\n",
      "Step: 320000   Loss: 2.147194979220122\n",
      "Step: 330000   Loss: 2.2472284685855657\n",
      "Step: 340000   Loss: 2.098091230957389\n",
      "Step: 350000   Loss: 2.380846957612722\n",
      "Step: 360000   Loss: 2.4163952564992006\n",
      "Step: 370000   Loss: 2.2591828784943253\n",
      "Step: 380000   Loss: 2.805384798808081\n",
      "Step: 390000   Loss: 2.4413883801535996\n",
      "Step: 400000   Loss: 2.4980465322581367\n",
      "Step: 410000   Loss: 2.146247547327244\n",
      "Step: 420000   Loss: 2.2949021133238343\n",
      "Step: 430000   Loss: 2.1469718219231155\n",
      "Step: 440000   Loss: 1.9348390482514093\n",
      "Step: 450000   Loss: 1.952381583511239\n",
      "Step: 460000   Loss: 2.325896818154411\n",
      "Step: 470000   Loss: 2.040887362524397\n",
      "Step: 480000   Loss: 2.1366927197207577\n",
      "Step: 490000   Loss: 2.3152396268892965\n",
      "Step: 500000   Loss: 2.1536215607704463\n",
      "Step: 510000   Loss: 2.0970549563892105\n",
      "Step: 520000   Loss: 2.2137348218160415\n",
      "Step: 530000   Loss: 2.327068141653161\n",
      "Step: 540000   Loss: 2.338710428011761\n",
      "Step: 550000   Loss: 2.2107832488994736\n",
      "Step: 560000   Loss: 2.0456558161522134\n",
      "Step: 570000   Loss: 2.03019021514046\n",
      "Step: 580000   Loss: 2.310858882304756\n",
      "Step: 590000   Loss: 2.2146525178615466\n",
      "Step: 600000   Loss: 2.4043495104655825\n",
      "Step: 610000   Loss: 2.124995795154387\n",
      "Step: 620000   Loss: 2.3326018131622783\n",
      "Step: 630000   Loss: 2.373384848345097\n",
      "Step: 640000   Loss: 2.2300014654242917\n",
      "Step: 650000   Loss: 2.1060855466299278\n",
      "Step: 660000   Loss: 2.5821359051687987\n",
      "Step: 670000   Loss: 2.079231186496221\n",
      "Step: 680000   Loss: 2.105702963305671\n",
      "Step: 690000   Loss: 2.1532965753276265\n",
      "Step: 700000   Loss: 1.9417353959842356\n",
      "Step: 710000   Loss: 1.807334680555561\n",
      "Step: 720000   Loss: 2.376552351422516\n",
      "Step: 730000   Loss: 2.066550979767917\n",
      "Step: 740000   Loss: 2.586901226867753\n",
      "Step: 750000   Loss: 2.3441398928420893\n",
      "Step: 760000   Loss: 2.1283018984094877\n",
      "Step: 770000   Loss: 2.3414971568350906\n",
      "Step: 780000   Loss: 2.0326624792483354\n",
      "Step: 790000   Loss: 1.9138872323995346\n",
      "Step: 800000   Loss: 2.2628165811376095\n",
      "Step: 810000   Loss: 2.221389912542894\n",
      "Step: 820000   Loss: 2.0621944321723977\n",
      "Step: 830000   Loss: 2.0168669453586476\n",
      "Step: 840000   Loss: 1.6611160258732638\n",
      "Step: 850000   Loss: 2.3130415959870496\n",
      "Step: 860000   Loss: 2.0444779145040632\n",
      "Step: 870000   Loss: 2.3315618045069852\n",
      "Step: 880000   Loss: 2.4631542200744563\n",
      "Step: 890000   Loss: 2.543620486800034\n",
      "Step: 900000   Loss: 2.3091861845056227\n",
      "Step: 910000   Loss: 2.0176052598674614\n",
      "Step: 920000   Loss: 2.325788057062447\n",
      "Step: 930000   Loss: 2.0802736407315088\n",
      "Step: 940000   Loss: 2.716573871190537\n",
      "Step: 950000   Loss: 2.012707864284629\n",
      "Step: 960000   Loss: 1.8414209390652725\n",
      "Step: 970000   Loss: 2.25237928120956\n",
      "Step: 980000   Loss: 2.1747356647401332\n",
      "Step: 990000   Loss: 2.2152780683108495\n"
     ]
    }
   ],
   "source": [
    "losses = []\n",
    "lr = 0.01\n",
    "\n",
    "for step in range(1000000):\n",
    "\n",
    "    ix = np.random.randint(0, X.shape[0], size=(batch_size,) )\n",
    "    X_batch = X[ix]\n",
    "    y_batch = y[ix]\n",
    "\n",
    "    for layer in model:\n",
    "        X_batch = layer(X_batch)\n",
    "    \n",
    "    loss, grad = cross_entropy_loss(X_batch, y_batch)\n",
    "\n",
    "    for layer in model[::-1]:\n",
    "        grad = layer.backward(grad, lr)\n",
    "    \n",
    "    if step%10000 == 0:\n",
    "        print(f\"Step: {step}   Loss: {loss}\")\n",
    "\n",
    "    if step%100000 == 0:\n",
    "        lr *= 0.93\n",
    "    losses.append(np.log10(loss))"
   ]
  },
  {
   "cell_type": "code",
   "execution_count": 160,
   "metadata": {},
   "outputs": [
    {
     "data": {
      "text/plain": [
       "[<matplotlib.lines.Line2D at 0x7ba3de785d90>]"
      ]
     },
     "execution_count": 160,
     "metadata": {},
     "output_type": "execute_result"
    },
    {
     "data": {
      "image/png": "[encoded data removed]",
      "text/plain": [
       "<Figure size 640x480 with 1 Axes>"
      ]
     },
     "metadata": {},
     "output_type": "display_data"
    }
   ],
   "source": [
    "plt.plot(losses)"
   ]
  },
  {
   "cell_type": "code",
   "execution_count": 193,
   "metadata": {},
   "outputs": [
    {
     "name": "stdout",
     "output_type": "stream",
     "text": [
      "amamy.\n",
      "kanshak.\n",
      "rovan.\n",
      "fidan.\n",
      "kalani.\n",
      "ahciy.\n",
      "arrak.\n",
      "ersla.\n",
      "kilann.\n",
      "saine.\n",
      "mey.\n",
      "lamkerlee.\n",
      "sosrij.\n",
      "rafmy.\n",
      "are.\n",
      "shalon.\n",
      "zyici.\n",
      "jeyma.\n",
      "briston.\n",
      "marria.\n"
     ]
    }
   ],
   "source": [
    "for _ in range(20):\n",
    "    names = []\n",
    "    context = [0] * (block_size)\n",
    "    while True:\n",
    "        out = np.array(context).reshape(1, block_size)\n",
    "\n",
    "        for layer in model:\n",
    "            out = layer(out)\n",
    "\n",
    "        probs = softmax(out).reshape(-1)\n",
    "        ix = np.random.multinomial(1, probs)\n",
    "        ix = np.argmax(ix)\n",
    "        context = context[1:] + [ix]\n",
    "        names.append(ix)\n",
    "        if ix == 0:\n",
    "            break\n",
    "    \n",
    "    print(''.join(itos[i] for i in names))"
   ]
  }
 ],
 "metadata": {
  "kernelspec": {
   "display_name": "ML",
   "language": "python",
   "name": "python3"
  },
  "language_info": {
   "codemirror_mode": {
    "name": "ipython",
    "version": 3
   },
   "file_extension": ".py",
   "mimetype": "text/x-python",
   "name": "python",
   "nbconvert_exporter": "python",
   "pygments_lexer": "ipython3",
   "version": "3.12.3"
  }
 },
 "nbformat": 4,
 "nbformat_minor": 2
}
